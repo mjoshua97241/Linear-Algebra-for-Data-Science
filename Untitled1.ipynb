{
 "cells": [
  {
   "cell_type": "markdown",
   "id": "70c49116-d7fa-4304-9b6d-4d690733ed6c",
   "metadata": {},
   "source": [
    "# Chapter 4 - Vector Applications"
   ]
  },
  {
   "cell_type": "code",
   "execution_count": null,
   "id": "0318155c-79f9-4a90-be70-3735c3c64373",
   "metadata": {},
   "outputs": [],
   "source": []
  }
 ],
 "metadata": {
  "kernelspec": {
   "display_name": "Python 3 (ipykernel)",
   "language": "python",
   "name": "python3"
  },
  "language_info": {
   "codemirror_mode": {
    "name": "ipython",
    "version": 3
   },
   "file_extension": ".py",
   "mimetype": "text/x-python",
   "name": "python",
   "nbconvert_exporter": "python",
   "pygments_lexer": "ipython3",
   "version": "3.12.7"
  }
 },
 "nbformat": 4,
 "nbformat_minor": 5
}
