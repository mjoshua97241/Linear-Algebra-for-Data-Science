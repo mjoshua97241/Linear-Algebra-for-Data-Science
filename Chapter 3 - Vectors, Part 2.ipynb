{
 "cells": [
  {
   "cell_type": "markdown",
   "id": "bf53de5b-3bd3-4ffa-a7f5-509218534ad8",
   "metadata": {},
   "source": [
    "# Chapter 3 - Vectors, Part 2"
   ]
  },
  {
   "cell_type": "code",
   "execution_count": 4,
   "id": "72052c18-a846-407a-b8dc-3398141cd2c2",
   "metadata": {},
   "outputs": [],
   "source": [
    "import numpy as np\n",
    "import matplotlib.pyplot as plt\n",
    "\n",
    "# NOTE: these lines define global figure properties used for publication.\n",
    "import matplotlib_inline.backend_inline\n",
    "matplotlib_inline.backend_inline.set_matplotlib_formats('svg') # print figures in svg format\n",
    "plt.rcParams.update({'font.size':14}) # set global font size"
   ]
  },
  {
   "cell_type": "markdown",
   "id": "a877a424-407e-45e2-9786-7550c486faa6",
   "metadata": {},
   "source": [
    "# Linear Weighted Combination\n",
    "\n",
    "- means scalar-vector multiplication and addition\n",
    "- assumed that all vectors have the same dimensionality"
   ]
  },
  {
   "cell_type": "code",
   "execution_count": 9,
   "id": "76a2ee99-e427-4f17-847c-093a33a0074a",
   "metadata": {},
   "outputs": [
    {
     "data": {
      "text/plain": [
       "array([ -7,  -4, -13])"
      ]
     },
     "execution_count": 9,
     "metadata": {},
     "output_type": "execute_result"
    }
   ],
   "source": [
    "l1 = 1\n",
    "l2 = 2\n",
    "l3 = -3\n",
    "v1 = np.array([4,5,1])\n",
    "v2 = np.array([-4,0,-4])\n",
    "v3 = np.array([1,3,2])\n",
    "\n",
    "l1*v1 + l2*v2 + l3*v3"
   ]
  },
  {
   "cell_type": "markdown",
   "id": "454a7baa-2f5f-4b99-bc19-d379e29999af",
   "metadata": {},
   "source": [
    "# Linear Independence\n",
    "\n",
    "# The Math of Linear Independence\n",
    "\n",
    "# Independence and the Zeros Vector\n",
    "\n",
    "# Subspace and Span"
   ]
  },
  {
   "cell_type": "code",
   "execution_count": null,
   "id": "8f9fe994-3650-477e-a7b6-74161668724b",
   "metadata": {},
   "outputs": [],
   "source": []
  },
  {
   "cell_type": "code",
   "execution_count": null,
   "id": "e0fc5451-181b-4e40-a632-3611df900012",
   "metadata": {},
   "outputs": [],
   "source": []
  },
  {
   "cell_type": "code",
   "execution_count": null,
   "id": "00490892-87f1-4ef2-b179-91efe90b6f5e",
   "metadata": {},
   "outputs": [],
   "source": []
  },
  {
   "cell_type": "code",
   "execution_count": null,
   "id": "e300c2d4-3993-4c94-9b86-35441ddc859a",
   "metadata": {},
   "outputs": [],
   "source": []
  },
  {
   "cell_type": "code",
   "execution_count": null,
   "id": "c9409b11-3142-4574-aafd-0720c493871e",
   "metadata": {},
   "outputs": [],
   "source": []
  },
  {
   "cell_type": "code",
   "execution_count": null,
   "id": "ff8d2400-c423-41eb-9a96-96fde6f4e190",
   "metadata": {},
   "outputs": [],
   "source": []
  },
  {
   "cell_type": "code",
   "execution_count": null,
   "id": "20a5b0e8-29cd-4845-87c0-0288dca1af5b",
   "metadata": {},
   "outputs": [],
   "source": []
  },
  {
   "cell_type": "code",
   "execution_count": null,
   "id": "dbb7b82b-71d5-45ea-aa7e-1cc68680661d",
   "metadata": {},
   "outputs": [],
   "source": []
  }
 ],
 "metadata": {
  "kernelspec": {
   "display_name": "Python 3 (ipykernel)",
   "language": "python",
   "name": "python3"
  },
  "language_info": {
   "codemirror_mode": {
    "name": "ipython",
    "version": 3
   },
   "file_extension": ".py",
   "mimetype": "text/x-python",
   "name": "python",
   "nbconvert_exporter": "python",
   "pygments_lexer": "ipython3",
   "version": "3.12.7"
  }
 },
 "nbformat": 4,
 "nbformat_minor": 5
}
