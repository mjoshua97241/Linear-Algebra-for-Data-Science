{
 "cells": [
  {
   "cell_type": "code",
   "execution_count": null,
   "id": "0be08174-c533-41c1-88c8-03967980df69",
   "metadata": {},
   "outputs": [],
   "source": []
  }
 ],
 "metadata": {
  "kernelspec": {
   "display_name": "",
   "name": ""
  },
  "language_info": {
   "name": ""
  }
 },
 "nbformat": 4,
 "nbformat_minor": 5
}
