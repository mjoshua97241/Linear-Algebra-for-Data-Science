{
 "cells": [
  {
   "cell_type": "markdown",
   "id": "1dce58e3-28c5-453f-b7bd-97d485266c50",
   "metadata": {},
   "source": [
    "# Chapter 2 - Vectors, Part 1"
   ]
  },
  {
   "cell_type": "markdown",
   "id": "9b168374-29be-41ef-ad50-612801d79f67",
   "metadata": {},
   "source": [
    "Import packages"
   ]
  },
  {
   "cell_type": "code",
   "execution_count": 6,
   "id": "13151491-beda-427e-aef9-a14808549569",
   "metadata": {},
   "outputs": [],
   "source": [
    "import numpy as np\n",
    "import matplotlib.pyplot as plt\n",
    "\n",
    "# NoteL these lines define global figure properties used for publication.\n",
    "import matplotlib_inline.backend_inline\n",
    "matplotlib_inline.backend_inline.set_matplotlib_formats('svg')\n",
    "plt.rcParams.update({'font.size':14})"
   ]
  },
  {
   "cell_type": "markdown",
   "id": "37adf7d0-aa68-4939-8fac-a901e2378d1b",
   "metadata": {},
   "source": [
    "## Creating Vectors"
   ]
  },
  {
   "cell_type": "code",
   "execution_count": 10,
   "id": "ae2e688a-3442-4afa-943d-d53bd1a9d47e",
   "metadata": {},
   "outputs": [],
   "source": [
    "# a vector as a Python list datatype\n",
    "asList = [1,2,3]\n",
    "\n",
    "#same numbers, but as a dimensionless numpy array\n",
    "asArray = np.array([1,2,3])\n",
    "\n",
    "# again same numbers, but now endowed with orientations\n",
    "rowVec = np.array([1,2,3]) #row\n",
    "colVec = np.array([ [1], [2], [3] ]) #column\n",
    "\n",
    "# The use of spacing when defining the vectors; that is not necessary but makes the code more readable."
   ]
  },
  {
   "cell_type": "code",
   "execution_count": 16,
   "id": "c6272e80-118a-4a5f-b07a-c2f4291f02a5",
   "metadata": {},
   "outputs": [
    {
     "name": "stdout",
     "output_type": "stream",
     "text": [
      "asList: (3,)\n",
      "asArray: (3,)\n",
      "rowVec: (3,)\n",
      "colVec: (3, 1)\n"
     ]
    }
   ],
   "source": [
    "# Check the size of the variables\n",
    "print(f'asList: {np.shape(asList)}') # using np's shape function\n",
    "print(f'asArray: {asArray.shape}') # using a method associated with numpy objects\n",
    "print(f'rowVec: {rowVec.shape}')\n",
    "print(f'colVec: {colVec.shape}')"
   ]
  },
  {
   "cell_type": "code",
   "execution_count": null,
   "id": "19551d6f-3347-41fa-95fe-03cde8f56894",
   "metadata": {},
   "outputs": [],
   "source": []
  }
 ],
 "metadata": {
  "kernelspec": {
   "display_name": "Python 3 (ipykernel)",
   "language": "python",
   "name": "python3"
  },
  "language_info": {
   "codemirror_mode": {
    "name": "ipython",
    "version": 3
   },
   "file_extension": ".py",
   "mimetype": "text/x-python",
   "name": "python",
   "nbconvert_exporter": "python",
   "pygments_lexer": "ipython3",
   "version": "3.12.7"
  }
 },
 "nbformat": 4,
 "nbformat_minor": 5
}
